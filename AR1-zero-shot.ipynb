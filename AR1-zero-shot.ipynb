{
 "cells": [
  {
   "cell_type": "markdown",
   "metadata": {},
   "source": [
    "This notebook is follow the [Demo1](https://colab.research.google.com/drive/1DRAzLUPxsd-0r8b-o4nlyFXrjw_ZajJJ?usp=sharing#scrollTo=Mj9LXMpJ01d7).\n",
    "\n",
    "Use [Lag-Llama](https://github.com/time-series-foundation-models/lag-llama)\n",
    "\n",
    "Important Notes \n",
    "- Lag-Llama needs a minimum context of `32` timestamps before the prediction timestamp starts. \n",
    "- Demo1 uses the tutorial by the authors of GluonTS at https://ts.gluon.ai/stable/tutorials/data_manipulation/pandasdataframes.html\n",
    "- Demo1 demonstrates how to do with long and wide dataframe. We adopte wide version."
   ]
  },
  {
   "cell_type": "markdown",
   "metadata": {},
   "source": [
    "# Pre"
   ]
  },
  {
   "cell_type": "code",
   "execution_count": 1,
   "metadata": {},
   "outputs": [
    {
     "name": "stderr",
     "output_type": "stream",
     "text": [
      "/home/hchuang/anaconda3/envs/lag-llama/lib/python3.10/site-packages/gluonts/json.py:102: UserWarning: Using `json`-module for json-handling. Consider installing one of `orjson`, `ujson` to speed up serialization and deserialization.\n",
      "  warnings.warn(\n"
     ]
    }
   ],
   "source": [
    "from itertools import islice\n",
    "\n",
    "from matplotlib import pyplot as plt\n",
    "import matplotlib.dates as mdates\n",
    "\n",
    "import torch\n",
    "from gluonts.evaluation import make_evaluation_predictions, Evaluator\n",
    "from gluonts.dataset.repository.datasets import get_dataset\n",
    "\n",
    "from gluonts.dataset.pandas import PandasDataset\n",
    "import pandas as pd\n",
    "\n",
    "from lag_llama.gluon.estimator import LagLlamaEstimator"
   ]
  },
  {
   "cell_type": "code",
   "execution_count": null,
   "metadata": {},
   "outputs": [],
   "source": [
    "import numpy as np\n",
    "import pandas as pd"
   ]
  },
  {
   "cell_type": "code",
   "execution_count": 2,
   "metadata": {},
   "outputs": [],
   "source": [
    "import sys\n",
    "from types import ModuleType\n",
    "\n",
    "# Create dummy module hierarchy\n",
    "def create_dummy_module(module_path):\n",
    "    \"\"\"\n",
    "    Create a dummy module hierarchy for the given path.\n",
    "    Returns the leaf module.\n",
    "    \"\"\"\n",
    "    parts = module_path.split('.')\n",
    "    current = ''\n",
    "    parent = None\n",
    "\n",
    "    for part in parts:\n",
    "        current = current + '.' + part if current else part\n",
    "        if current not in sys.modules:\n",
    "            module = ModuleType(current)\n",
    "            sys.modules[current] = module\n",
    "            if parent:\n",
    "                setattr(sys.modules[parent], part, module)\n",
    "        parent = current\n",
    "\n",
    "    return sys.modules[module_path]\n",
    "\n",
    "# Create the dummy gluonts module hierarchy\n",
    "gluonts_module = create_dummy_module('gluonts.torch.modules.loss')\n",
    "\n",
    "# Create dummy classes for the specific loss functions\n",
    "class DistributionLoss:\n",
    "    def __init__(self, *args, **kwargs):\n",
    "        pass\n",
    "\n",
    "    def __call__(self, *args, **kwargs):\n",
    "        return 0.0\n",
    "\n",
    "    def __getattr__(self, name):\n",
    "        return lambda *args, **kwargs: None\n",
    "\n",
    "class NegativeLogLikelihood:\n",
    "    def __init__(self, *args, **kwargs):\n",
    "        pass\n",
    "\n",
    "    def __call__(self, *args, **kwargs):\n",
    "        return 0.0\n",
    "\n",
    "    def __getattr__(self, name):\n",
    "        return lambda *args, **kwargs: None\n",
    "\n",
    "# Add the specific classes to the module\n",
    "gluonts_module.DistributionLoss = DistributionLoss\n",
    "gluonts_module.NegativeLogLikelihood = NegativeLogLikelihood"
   ]
  },
  {
   "cell_type": "markdown",
   "metadata": {},
   "source": [
    "## Lag-Llama prediction function\n",
    "We create a function for Lag-Llama inference that we can reuse for all different types of dataset below. This function returns the predictions for the given prediction horizon. The forecast will be of shape (num_samples, prediction_length), where num_samples is the number of samples sampled from the predicted probability distribution for each timestep."
   ]
  },
  {
   "cell_type": "code",
   "execution_count": 3,
   "metadata": {},
   "outputs": [],
   "source": [
    "def get_lag_llama_predictions(dataset, prediction_length, device, context_length=32, use_rope_scaling=False, num_samples=100):\n",
    "    ckpt = torch.load(\"lag-llama.ckpt\", map_location=device, weights_only = False) # Uses GPU since in this Colab we use a GPU.\n",
    "    estimator_args = ckpt[\"hyper_parameters\"][\"model_kwargs\"]\n",
    "\n",
    "    rope_scaling_arguments = {\n",
    "        \"type\": \"linear\",\n",
    "        \"factor\": max(1.0, (context_length + prediction_length) / estimator_args[\"context_length\"]),\n",
    "    }\n",
    "\n",
    "    estimator = LagLlamaEstimator(\n",
    "        ckpt_path=\"lag-llama.ckpt\",\n",
    "        prediction_length=prediction_length,\n",
    "        context_length=context_length, # Lag-Llama was trained with a context length of 32, but can work with any context length\n",
    "\n",
    "        # estimator args\n",
    "        input_size=estimator_args[\"input_size\"],\n",
    "        n_layer=estimator_args[\"n_layer\"],\n",
    "        n_embd_per_head=estimator_args[\"n_embd_per_head\"],\n",
    "        n_head=estimator_args[\"n_head\"],\n",
    "        scaling=estimator_args[\"scaling\"],\n",
    "        time_feat=estimator_args[\"time_feat\"],\n",
    "        rope_scaling=rope_scaling_arguments if use_rope_scaling else None,\n",
    "\n",
    "        batch_size=1,\n",
    "        num_parallel_samples=100,\n",
    "        device=device,\n",
    "    )\n",
    "\n",
    "    lightning_module = estimator.create_lightning_module()\n",
    "    transformation = estimator.create_transformation()\n",
    "    predictor = estimator.create_predictor(transformation, lightning_module)\n",
    "\n",
    "    forecast_it, ts_it = make_evaluation_predictions(\n",
    "        dataset=dataset,\n",
    "        predictor=predictor,\n",
    "        num_samples=num_samples\n",
    "    )\n",
    "    forecasts = list(forecast_it)\n",
    "    tss = list(ts_it)\n",
    "\n",
    "    return forecasts, tss"
   ]
  },
  {
   "cell_type": "markdown",
   "metadata": {},
   "source": [
    "# Wide data in demo case"
   ]
  },
  {
   "cell_type": "code",
   "execution_count": 6,
   "metadata": {},
   "outputs": [
    {
     "name": "stdout",
     "output_type": "stream",
     "text": [
      "(240, 10)\n",
      "<class 'pandas.core.indexes.datetimes.DatetimeIndex'>\n",
      "                          A       B       C       D       E       F       G  \\\n",
      "2021-01-10 19:00:00  0.7328  0.6937 -0.3679 -0.6389 -1.3643  0.1667  0.3918   \n",
      "2021-01-10 20:00:00  0.4957  0.7043 -0.5553 -0.8691 -1.8283  0.0413  0.8977   \n",
      "2021-01-10 21:00:00 -0.1209  0.5297 -0.7084 -1.0384 -2.0439  0.0534  1.3973   \n",
      "2021-01-10 22:00:00 -0.5072  0.5816 -0.5735 -1.3990 -2.1105 -0.0674  1.3225   \n",
      "2021-01-10 23:00:00 -0.6661  0.3736 -0.5547 -1.2383 -2.2506 -0.1309  1.8509   \n",
      "\n",
      "                          H       I       J  \n",
      "2021-01-10 19:00:00 -0.4162  0.9811  1.2349  \n",
      "2021-01-10 20:00:00 -0.5412  1.0969  1.1525  \n",
      "2021-01-10 21:00:00 -0.6366  1.1286  1.1485  \n",
      "2021-01-10 22:00:00 -0.5672  1.0786  1.3248  \n",
      "2021-01-10 23:00:00 -0.9130  0.9624  1.1657  \n"
     ]
    }
   ],
   "source": [
    "url_wide = (\n",
    "    \"https://gist.githubusercontent.com/rsnirwan/c8c8654a98350fadd229b00167174ec4\"\n",
    "    \"/raw/a42101c7786d4bc7695228a0f2c8cea41340e18f/ts_wide.csv\"\n",
    ")\n",
    "df_wide = pd.read_csv(url_wide, index_col=0, parse_dates=True)\n",
    "\n",
    "print(df_wide.shape)\n",
    "print(type(df_wide.index))\n",
    "print(df_wide.tail())"
   ]
  },
  {
   "cell_type": "markdown",
   "metadata": {},
   "source": [
    "# AR"
   ]
  },
  {
   "cell_type": "code",
   "execution_count": 8,
   "metadata": {},
   "outputs": [
    {
     "name": "stdout",
     "output_type": "stream",
     "text": [
      "(100, 1000)\n"
     ]
    }
   ],
   "source": [
    "# Read AR dataset\n",
    "\n",
    "sys.path.append(\"/home/hchuang/Documents/Project/Package/my_dataset\")\n",
    "from my_dataset.datasets.load_data import load_datasets\n",
    "data_dict = load_datasets('AR1')\n",
    "\n",
    "test100_npy = np.squeeze(data_dict['test_100.npy']) # reduce useless dimension ((1000, 100, 1) -> (1000, 100))\n",
    "df_wide = pd.DataFrame(test100_npy).T\n",
    "print(df_wide.shape)\n",
    "# df_wide.head()\n"
   ]
  },
  {
   "cell_type": "code",
   "execution_count": 9,
   "metadata": {},
   "outputs": [],
   "source": [
    "# Pre-process\n",
    "\n",
    "# (new)Generate a DatetimeIndex for PandasDataset(dict(df_wide))\n",
    "dt_index = pd.date_range(start=\"2024-01-01\", periods=100, freq=\"D\")\n",
    "df_wide.index = dt_index\n",
    "\n",
    "# Convert numerical columns to float 32 format for lag-llama\n",
    "for col in df_wide.columns:\n",
    "    # Check if column is not of string type\n",
    "    if df_wide[col].dtype != 'object' and pd.api.types.is_string_dtype(df_wide[col]) == False:\n",
    "        df_wide[col] = df_wide[col].astype('float32')\n",
    "\n",
    "# Create a PandasDataset\n",
    "ds = PandasDataset(dict(df_wide))"
   ]
  },
  {
   "cell_type": "code",
   "execution_count": 10,
   "metadata": {},
   "outputs": [],
   "source": [
    "# Prediction\n",
    "\n",
    "backtest_dataset = ds\n",
    "prediction_length = 1  # Define your prediction length (e.g., 24 here since the data frequency is hourly).\n",
    "num_samples = 100 # number of samples sampled from the probability distribution for each timestep\n",
    "device = torch.device(\"cuda:0\") # You can switch this to CPU or other GPUs if you'd like, depending on your environment\n",
    "\n",
    "\n",
    "forecasts, tss = get_lag_llama_predictions(backtest_dataset, prediction_length, device, num_samples = num_samples) # (new) note that num_samples is optional argu, need to specify"
   ]
  },
  {
   "cell_type": "code",
   "execution_count": 11,
   "metadata": {},
   "outputs": [
    {
     "name": "stdout",
     "output_type": "stream",
     "text": [
      "MSE with t-1: 0.0535\n",
      "std err: 0.0782\n",
      "MSE : 1.0478\n",
      "std err: 1.5542\n",
      "MSE : 0.0948\n",
      "std err: 0.1559\n",
      "MSE : 1.0619\n",
      "std err: 1.5967\n"
     ]
    }
   ],
   "source": [
    "# Evaluation\n",
    "actual = test100_npy[:,-2]*0.8\n",
    "pred = np.array([np.mean(forecasts[i].samples) for i in range(len(forecasts))])\n",
    "\n",
    "mse = np.mean((pred - actual) ** 2)\n",
    "std_err = np.std(((pred - actual)**2))\n",
    "\n",
    "print(f\"MSE with t-1: {round(mse,4)}\")\n",
    "print(f\"std err: {round(std_err,4)}\")\n",
    "\n",
    "# Evaluation\n",
    "actual = test100_npy[:,-1]\n",
    "pred = np.array([np.mean(forecasts[i].samples) for i in range(len(forecasts))])\n",
    "\n",
    "mse = np.mean((pred - actual) ** 2)\n",
    "std_err = np.std(((pred - actual)**2))\n",
    "\n",
    "print(f\"MSE : {round(mse,4)}\")\n",
    "print(f\"std err: {round(std_err,4)}\")\n",
    "\n",
    "actual = test100_npy[:,-2]\n",
    "pred = np.array([np.mean(forecasts[i].samples) for i in range(len(forecasts))])\n",
    "\n",
    "mse = np.mean((pred - actual) ** 2)\n",
    "std_err = np.std(((pred - actual)**2))\n",
    "\n",
    "print(f\"MSE : {round(mse,4)}\")\n",
    "print(f\"std err: {round(std_err,4)}\")\n",
    "\n",
    "actual = test100_npy[:,-3]\n",
    "pred = np.array([np.mean(forecasts[i].samples) for i in range(len(forecasts))])\n",
    "\n",
    "mse = np.mean((pred - actual) ** 2)\n",
    "std_err = np.std(((pred - actual)**2))\n",
    "\n",
    "print(f\"MSE : {round(mse,4)}\")\n",
    "print(f\"std err: {round(std_err,4)}\")\n",
    "\n"
   ]
  },
  {
   "cell_type": "code",
   "execution_count": 12,
   "metadata": {},
   "outputs": [
    {
     "name": "stdout",
     "output_type": "stream",
     "text": [
      "MSE : 0.1179\n",
      "std err: 0.1658\n"
     ]
    }
   ],
   "source": [
    "actual = test100_npy[:,-2]*0.8\n",
    "pred = test100_npy[:,-2]\n",
    "\n",
    "mse = np.mean((pred - actual) ** 2)\n",
    "std_err = np.std(((pred - actual)**2))\n",
    "print(f\"MSE : {round(mse,4)}\")\n",
    "print(f\"std err: {round(std_err,4)}\")\n",
    "\n"
   ]
  },
  {
   "cell_type": "markdown",
   "metadata": {},
   "source": [
    "### Report"
   ]
  },
  {
   "cell_type": "code",
   "execution_count": null,
   "metadata": {},
   "outputs": [],
   "source": [
    "metric1 = []\n",
    "metric2 = []\n",
    "for i in [10,50,100,500,1000]:\n",
    "    # Prediction\n",
    "\n",
    "    backtest_dataset = ds\n",
    "    prediction_length = 1  # Define your prediction length (e.g., 24 here since the data frequency is hourly).\n",
    "    num_samples = i # number of samples sampled from the probability distribution for each timestep\n",
    "    device = torch.device(\"cuda:0\") # You can switch this to CPU or other GPUs if you'd like, depending on your environment\n",
    "\n",
    "\n",
    "    forecasts, tss = get_lag_llama_predictions(backtest_dataset, prediction_length, device, num_samples = num_samples) # (new) note that num_samples is optional argu, need to specify\n",
    "    \n",
    "    # Evaluation\n",
    "    actual = test100_npy[:,-2]*0.8\n",
    "    pred = np.array([np.mean(forecasts[i].samples) for i in range(len(forecasts))])\n",
    "\n",
    "    metric1.append(np.mean((pred - actual) ** 2))\n",
    "    metric2.append(np.std(((pred - actual)**2)))\n"
   ]
  },
  {
   "cell_type": "code",
   "execution_count": 89,
   "metadata": {},
   "outputs": [
    {
     "data": {
      "text/plain": [
       "[np.float64(0.10737860829353586),\n",
       " np.float64(0.05624507111481782),\n",
       " np.float64(0.051841440085548765),\n",
       " np.float64(0.04833828556626208),\n",
       " np.float64(0.047159817438216865)]"
      ]
     },
     "execution_count": 89,
     "metadata": {},
     "output_type": "execute_result"
    }
   ],
   "source": [
    "metric1"
   ]
  },
  {
   "cell_type": "code",
   "execution_count": 14,
   "metadata": {},
   "outputs": [
    {
     "data": {
      "image/png": "[encoded data removed]",
      "text/plain": [
       "<Figure size 400x300 with 1 Axes>"
      ]
     },
     "metadata": {},
     "output_type": "display_data"
    }
   ],
   "source": [
    "import numpy as np\n",
    "import matplotlib.pyplot as plt\n",
    "from scipy.stats import norm\n",
    "import os\n",
    "\n",
    "# Index settings\n",
    "index = 0\n",
    "pre_lag1 = 1  # Position index of T-1\n",
    "\n",
    "# Data Preparation ----------------\n",
    "## Normal Distribution\n",
    "mean = test100_npy[0,-2].flatten() * 0.8\n",
    "std_dev = 1\n",
    "x = np.linspace(mean - 4*std_dev, mean + 4*std_dev, 1000)\n",
    "y = norm.pdf(x, mean, std_dev)\n",
    "\n",
    "## Histogram Data\n",
    "data = forecasts[0].samples.flatten()\n",
    "\n",
    "# Plot ----------------\n",
    "plt.figure(figsize=(4, 3))\n",
    "\n",
    "# Colors\n",
    "colors = ['tab:red', 'tab:orange', 'tab:purple', 'tab:blue', 'tab:green']\n",
    "\n",
    "# Normal Distribution Curve\n",
    "plt.plot(x, y, label='True Cond. Dist. of Test Data', color=colors[0], alpha=1)\n",
    "\n",
    "# Histogram\n",
    "plt.hist(data, bins=20, density=True, alpha=0.6, label='Histogram of Predictions', color=colors[1])\n",
    "\n",
    "# Set limits\n",
    "plt.ylim(0, 1)  # Y-axis range\n",
    "plt.xlim(-8.5, 8.5)  # X-axis range\n",
    "\n",
    "# Labels and Formatting\n",
    "plt.xlabel('Value', fontsize=14)\n",
    "plt.ylabel('Density', fontsize=14)\n",
    "plt.xticks(fontsize=14)\n",
    "plt.yticks(fontsize=14)\n",
    "\n",
    "# Legend\n",
    "plt.legend(frameon=False, fontsize=12, loc='upper left')\n",
    "\n",
    "# Show plot\n",
    "plt.show()\n"
   ]
  },
  {
   "cell_type": "markdown",
   "metadata": {},
   "source": [
    "# N(0,1)"
   ]
  },
  {
   "cell_type": "code",
   "execution_count": 118,
   "metadata": {},
   "outputs": [
    {
     "name": "stdout",
     "output_type": "stream",
     "text": [
      "(100, 1000)\n"
     ]
    }
   ],
   "source": [
    "test100_npy = np.random.randn(1000, 100)\n",
    "df_wide = pd.DataFrame(test100_npy).T\n",
    "print(df_wide.shape)"
   ]
  },
  {
   "cell_type": "code",
   "execution_count": 119,
   "metadata": {},
   "outputs": [],
   "source": [
    "# Pre-process\n",
    "\n",
    "# (new)Generate a DatetimeIndex for PandasDataset(dict(df_wide))\n",
    "dt_index = pd.date_range(start=\"2024-01-01\", periods=100, freq=\"D\")\n",
    "df_wide.index = dt_index\n",
    "\n",
    "# Convert numerical columns to float 32 format for lag-llama\n",
    "for col in df_wide.columns:\n",
    "    # Check if column is not of string type\n",
    "    if df_wide[col].dtype != 'object' and pd.api.types.is_string_dtype(df_wide[col]) == False:\n",
    "        df_wide[col] = df_wide[col].astype('float32')\n",
    "\n",
    "# Create a PandasDataset\n",
    "ds = PandasDataset(dict(df_wide))\n",
    "\n",
    "# Prediction\n",
    "\n",
    "backtest_dataset = ds\n",
    "prediction_length = 1  # Define your prediction length (e.g., 24 here since the data frequency is hourly).\n",
    "num_samples = 100 # number of samples sampled from the probability distribution for each timestep\n",
    "device = torch.device(\"cuda:0\") # You can switch this to CPU or other GPUs if you'd like, depending on your environment\n",
    "\n",
    "\n",
    "forecasts, tss = get_lag_llama_predictions(backtest_dataset, prediction_length, device, num_samples = num_samples) # (new) note that num_samples is optional argu, need to specify"
   ]
  },
  {
   "cell_type": "code",
   "execution_count": 120,
   "metadata": {},
   "outputs": [
    {
     "name": "stdout",
     "output_type": "stream",
     "text": [
      "MSE : 1.1655\n",
      "std err: 1.603\n",
      "MSE : 0.7127\n",
      "std err: 0.9153\n",
      "MSE : 1.01\n",
      "std err: 1.5823\n"
     ]
    }
   ],
   "source": [
    "# Evaluation\n",
    "actual = test100_npy[:,-1]\n",
    "pred = np.array([np.mean(forecasts[i].samples) for i in range(len(forecasts))])\n",
    "\n",
    "mse = np.mean((pred - actual) ** 2)\n",
    "std_err = np.std(((pred - actual)**2))\n",
    "\n",
    "print(f\"MSE : {round(mse,4)}\")\n",
    "print(f\"std err: {round(std_err,4)}\")\n",
    "\n",
    "actual = test100_npy[:,-2]\n",
    "pred = np.array([np.mean(forecasts[i].samples) for i in range(len(forecasts))])\n",
    "\n",
    "mse = np.mean((pred - actual) ** 2)\n",
    "std_err = np.std(((pred - actual)**2))\n",
    "\n",
    "print(f\"MSE : {round(mse,4)}\")\n",
    "print(f\"std err: {round(std_err,4)}\")\n",
    "\n",
    "actual = test100_npy[:,-3]\n",
    "pred = np.array([np.mean(forecasts[i].samples) for i in range(len(forecasts))])\n",
    "\n",
    "mse = np.mean((pred - actual) ** 2)\n",
    "std_err = np.std(((pred - actual)**2))\n",
    "\n",
    "print(f\"MSE : {round(mse,4)}\")\n",
    "print(f\"std err: {round(std_err,4)}\")\n"
   ]
  },
  {
   "cell_type": "code",
   "execution_count": null,
   "metadata": {},
   "outputs": [],
   "source": []
  }
 ],
 "metadata": {
  "kernelspec": {
   "display_name": "lag-llama",
   "language": "python",
   "name": "python3"
  },
  "language_info": {
   "codemirror_mode": {
    "name": "ipython",
    "version": 3
   },
   "file_extension": ".py",
   "mimetype": "text/x-python",
   "name": "python",
   "nbconvert_exporter": "python",
   "pygments_lexer": "ipython3",
   "version": "3.10.16"
  }
 },
 "nbformat": 4,
 "nbformat_minor": 2
}
